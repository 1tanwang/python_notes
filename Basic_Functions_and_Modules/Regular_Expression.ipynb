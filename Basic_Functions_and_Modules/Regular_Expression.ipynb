{
 "cells": [
  {
   "cell_type": "markdown",
   "metadata": {},
   "source": [
    "# Regular Expression"
   ]
  },
  {
   "cell_type": "markdown",
   "metadata": {},
   "source": [
    "This is a note for Python regular expression module `re`. \n",
    "\n",
    "Regular expression can help with text processing by specifing a set of string that matches it.  \n"
   ]
  },
  {
   "cell_type": "code",
   "execution_count": 1,
   "metadata": {},
   "outputs": [],
   "source": [
    "import re"
   ]
  },
  {
   "cell_type": "markdown",
   "metadata": {},
   "source": [
    "# Regular Expression Syntax"
   ]
  },
  {
   "cell_type": "markdown",
   "metadata": {},
   "source": [
    "## Syntax\n",
    "\n",
    "There are two ways to represent regular expression rules, `r\"\"` and `\"\"`. The expression starts with `r` is designed to save effort handling backslash `\\` in when using regular expression with Python. Inside the quotation mark of both representation is where the regular expression rules be written. \n",
    "\n",
    "Regular expressions can contain both _special_ and _ordinary characters_. \n",
    "\n",
    "__Ordinary characters__\n",
    "\n",
    "A, a, k, 0, 3,... they are just what they are. \n",
    "\n",
    "__Special characters__\n",
    "\n",
    "Special characters are used for specifing how the regular expression around ordinary characters are interpreted, including patterns and order. \n",
    "\n",
    "The following are special characters and their"
   ]
  },
  {
   "cell_type": "markdown",
   "metadata": {},
   "source": [
    "## Special Sequences\n",
    "\n",
    "`\\d` : any decimal digit; this is equivalent to the class [0-9]\n",
    "\n",
    "`\\D` : any non-digit character; this is equivalent to the class [^0-9]\n",
    "\n",
    "`\\s` : any whitespace character; this is equivalent to the class [ \\t\\n\\r\\f\\v]\n",
    "\n",
    "`\\S` : any non-whitespace character; this is equivalent to the class [^ \\t\\n\\r\\f\\v]\n",
    "\n",
    "`\\w` : any alphanumeric character; this is equivalent to the class [a-zA-Z0-9_]\n",
    "\n",
    "`\\W` : any non-alphanumeric character; this is equivalent to the class [^a-zA-Z0-9_]"
   ]
  },
  {
   "cell_type": "markdown",
   "metadata": {},
   "source": [
    "## Supported Functions\n",
    "\n",
    "__compile__\n",
    "\n",
    "__match__\n",
    "\n",
    "__search__\n"
   ]
  },
  {
   "cell_type": "markdown",
   "metadata": {},
   "source": [
    "# Scenarios and Use Cases"
   ]
  },
  {
   "cell_type": "markdown",
   "metadata": {},
   "source": [
    "## Finding first digit in a string\n",
    "\n",
    "Two key points in this case, __search for a charactor__ and __digits__. \n",
    "\n",
    "To search for the index of something in a string, `re.search()` is the solution. \n",
    "\n",
    "Looking for digits only, the regular expression should be `\\d`. "
   ]
  },
  {
   "cell_type": "code",
   "execution_count": 2,
   "metadata": {},
   "outputs": [
    {
     "name": "stdout",
     "output_type": "stream",
     "text": [
      "The index of first digits in the string is 10\n"
     ]
    }
   ],
   "source": [
    "# Finding first digit in a string \n",
    "text = \"this is a 6 word string 123452\"\n",
    "m = re.search(r\"\\d\", text)\n",
    "print(\"The index of first digits in the string is\", m.start())"
   ]
  },
  {
   "cell_type": "markdown",
   "metadata": {},
   "source": [
    "## Checking if a string matches the desired substring\n",
    "\n",
    "using __match__ function"
   ]
  },
  {
   "cell_type": "code",
   "execution_count": 3,
   "metadata": {},
   "outputs": [
    {
     "name": "stdout",
     "output_type": "stream",
     "text": [
      "Rule: string that begins with 'Begin'\n",
      "----- Rule check results -----\n",
      "Rule matched: Begins with\n",
      "string: 'movie theatre' does not match the rule\n",
      "Rule matched: Begin again\n"
     ]
    }
   ],
   "source": [
    "list_of_strings = [\n",
    "    \"Begins with\", \n",
    "    \"movie theatre\", \n",
    "    \"Begin again\"\n",
    "]\n",
    "rule = re.compile(\"^Begin\")\n",
    "\n",
    "print(\"Rule: string that begins with \\'Begin\\'\")\n",
    "print(\"----- Rule check results -----\")\n",
    "for s in list_of_strings:\n",
    "    if rule.match(s) is None:\n",
    "        print(\"string: \\'%s\\' does not match the rule\" % s)\n",
    "    else:\n",
    "        print(\"Rule matched: %s\" % s)"
   ]
  }
 ],
 "metadata": {
  "kernelspec": {
   "display_name": "Python 3",
   "language": "python",
   "name": "python3"
  },
  "language_info": {
   "codemirror_mode": {
    "name": "ipython",
    "version": 3
   },
   "file_extension": ".py",
   "mimetype": "text/x-python",
   "name": "python",
   "nbconvert_exporter": "python",
   "pygments_lexer": "ipython3",
   "version": "3.6.8"
  }
 },
 "nbformat": 4,
 "nbformat_minor": 2
}
