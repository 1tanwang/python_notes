{
 "cells": [
  {
   "cell_type": "markdown",
   "metadata": {},
   "source": [
    "# Selenium\n",
    "\n",
    "Selenium Python API provides a tool for web testing and web scraping. "
   ]
  },
  {
   "cell_type": "markdown",
   "metadata": {},
   "source": [
    "## Installation\n",
    "\n",
    "__Install Selenium__\n",
    "\n",
    "`pip install selenium`\n",
    "\n",
    "__Install Webdrivers__\n",
    "\n",
    "Selenium requires a driver to interface with the browser. Webdriver needs to be installed and be placed _in your PATH_. \n",
    "\n",
    "Remember, place it in _/usr/bin_ or _/usr/local/bin_ \n",
    "\n",
    "[Chrome driver](https://sites.google.com/a/chromium.org/chromedriver/downloads)\n",
    "\n",
    "[Firefox driver](https://github.com/mozilla/geckodriver/releases)"
   ]
  },
  {
   "cell_type": "markdown",
   "metadata": {},
   "source": [
    "## Initialization\n",
    "\n",
    "Initializing webdriver in headless mode (the program will not open a real brower window while running). "
   ]
  },
  {
   "cell_type": "code",
   "execution_count": 1,
   "metadata": {},
   "outputs": [],
   "source": [
    "from selenium import webdriver\n",
    "from selenium.webdriver.chrome.options import Options\n",
    "\n",
    "options = Options()\n",
    "options.add_argument(\"--headless\")\n",
    "driver = webdriver.Chrome(chrome_options=options)\n",
    "# can also set window size\n",
    "# driver.set_window_size(1024, 960)"
   ]
  },
  {
   "cell_type": "markdown",
   "metadata": {},
   "source": [
    "## Closing the webdriver\n",
    "\n",
    "The webdriver should be closed everytime you finished the task. "
   ]
  },
  {
   "cell_type": "code",
   "execution_count": 2,
   "metadata": {},
   "outputs": [],
   "source": [
    "driver.close()"
   ]
  },
  {
   "cell_type": "markdown",
   "metadata": {},
   "source": [
    "## Get webpage source\n",
    "\n",
    "Request and get the webpage source with webdriver. "
   ]
  },
  {
   "cell_type": "code",
   "execution_count": null,
   "metadata": {},
   "outputs": [],
   "source": [
    "url = \"www.google.com\"\n",
    "driver.get(url)"
   ]
  },
  {
   "cell_type": "markdown",
   "metadata": {},
   "source": [
    "## Locating Elements\n",
    "\n",
    "* find_element_by_id\n",
    "* find_element_by_name\n",
    "* find_element_by_xpath\n",
    "* find_element_by_link_text\n",
    "* find_element_by_partial_link_text\n",
    "* find_element_by_tag_name\n",
    "* find_element_by_class_name\n",
    "* find_element_by_css_selector\n",
    "\n",
    "To find multiple elements (these methods will return a list):\n",
    "\n",
    "* find_elements_by_name\n",
    "* find_elements_by_xpath\n",
    "* find_elements_by_link_text\n",
    "* find_elements_by_partial_link_text\n",
    "* find_elements_by_tag_name\n",
    "* find_elements_by_class_name\n",
    "* find_elements_by_css_selector"
   ]
  },
  {
   "cell_type": "markdown",
   "metadata": {},
   "source": [
    "## Search for input field and put search string\n",
    "\n",
    "Search input field by its XPATH and put search word into the field"
   ]
  },
  {
   "cell_type": "code",
   "execution_count": null,
   "metadata": {},
   "outputs": [],
   "source": [
    "# find the input field\n",
    "input_xpath = \"//*[@id=\\\"tsf\\\"]/div[2]/div[1]/div[1]/div/div[2]/input\"\n",
    "field = driver.find_element_by_xpath(input_xpath)\n",
    "# to be safe, clear any pre-populated text in the input field\n",
    "field.clear()\n",
    "# put search string into input field\n",
    "field.send_keys(\"python selenium\")"
   ]
  },
  {
   "cell_type": "markdown",
   "metadata": {},
   "source": [
    "## Press enter or search button to search\n",
    "\n",
    "There are two ways to make the search. \n",
    "\n",
    "* Press enter at the input field, or\n",
    "* click on the search button"
   ]
  },
  {
   "cell_type": "code",
   "execution_count": null,
   "metadata": {},
   "outputs": [],
   "source": [
    "# send the Enter key to the input field\n",
    "from selenium.webdriver.common.keys import Keys\n",
    "field.send_keys(Keys.RETURN)\n",
    "\n",
    "# or\n",
    "# find the send button and click it\n",
    "send_btn = driver.find_element_by_xpath(\"//*[@id=\\\"tsf\\\"]/div[2]/div[1]/div[3]/center/input[1]\")\n",
    "send_btn.click()"
   ]
  }
 ],
 "metadata": {
  "kernelspec": {
   "display_name": "Python 3",
   "language": "python",
   "name": "python3"
  },
  "language_info": {
   "codemirror_mode": {
    "name": "ipython",
    "version": 3
   },
   "file_extension": ".py",
   "mimetype": "text/x-python",
   "name": "python",
   "nbconvert_exporter": "python",
   "pygments_lexer": "ipython3",
   "version": "3.6.8"
  }
 },
 "nbformat": 4,
 "nbformat_minor": 2
}
